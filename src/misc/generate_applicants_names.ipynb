{
 "cells": [
  {
   "cell_type": "code",
   "execution_count": 2,
   "id": "ae6f5e4e-cbe0-4303-a6cf-ccf6cc492fc9",
   "metadata": {},
   "outputs": [],
   "source": [
    "import pandas as pd"
   ]
  },
  {
   "cell_type": "code",
   "execution_count": 3,
   "id": "bfe58908-af2e-46f9-ae2f-52e9d15ce0f8",
   "metadata": {},
   "outputs": [],
   "source": [
    "name_src = '../../data/raw/name_sources/names1.txt'\n",
    "df = pd.read_csv(name_src, header=None)\n",
    "df.columns = ['name']"
   ]
  },
  {
   "cell_type": "code",
   "execution_count": 13,
   "id": "ae7a2517-4169-4352-8b51-4271dc95a9b6",
   "metadata": {},
   "outputs": [
    {
     "name": "stdout",
     "output_type": "stream",
     "text": [
      "2001_1 [5] total = 5\n",
      "2002_1 [5, 5] total = 10\n",
      "2003_1 [10, 5] total = 15\n",
      "2004_1 [10, 10] total = 20\n",
      "2005_1 [10, 5, 10] total = 25\n",
      "2006_1 [10, 10] total = 20\n",
      "2006_2 [5, 5] total = 10\n",
      "2007_1 [8, 12, 5] total = 25\n",
      "2007_2 [8, 7] total = 15\n",
      "2008_1 [10, 8, 7] total = 25\n",
      "2008_2 [8, 7, 5] total = 20\n",
      "2009_1 [10, 10, 10] total = 30\n",
      "2009_2 [5, 10, 10] total = 25\n",
      "2010_1 [10, 15, 10] total = 35\n",
      "2010_2 [10, 10, 5] total = 25\n",
      "2011_1 [15, 15, 10] total = 40\n",
      "2011_2 [10, 5, 5] total = 20\n",
      "2012_1 [15, 15, 15] total = 45\n",
      "2012_2 [5, 5] total = 10\n",
      "2013_1 [10, 15, 15, 15] total = 55\n",
      "2013_2 [10, 5] total = 15\n",
      "2014_1 [15, 15, 15, 15] total = 60\n",
      "2014_2 [10, 10] total = 20\n",
      "2015_1 [10, 15, 10, 10] total = 45\n",
      "2015_2 [5, 5] total = 10\n",
      "2016_1 [10, 10, 10, 10] total = 40\n",
      "2016_2 [5] total = 5\n",
      "2017_1 [5, 5, 10, 5] total = 25\n",
      "2017_2 [10] total = 10\n",
      "2018_1 [10, 10, 5] total = 25\n",
      "2018_2 [10, 10] total = 20\n",
      "2019_1 [10, 15, 10] total = 35\n",
      "2019_2 [10, 5, 10] total = 25\n",
      "2020_1 [15, 10] total = 25\n",
      "2020_2 [10, 10, 10, 15] total = 45\n"
     ]
    }
   ],
   "source": [
    "base_folder = '../../data/raw/applicants/'\n",
    "\n",
    "admission = {\n",
    "    '2001_1': [5],\n",
    "    '2002_1': [5, 5],\n",
    "    '2003_1': [10, 5],\n",
    "    '2004_1': [10, 10],\n",
    "    '2005_1': [10, 5, 10],\n",
    "    '2006_1': [10, 10],\n",
    "    '2006_2': [5, 5],\n",
    "    '2007_1': [8, 12, 5],\n",
    "    '2007_2': [8, 7],\n",
    "    '2008_1': [10, 8, 7],\n",
    "    '2008_2': [8, 7, 5],\n",
    "    '2009_1': [10, 10, 10],\n",
    "    '2009_2': [5, 10, 10],\n",
    "    '2010_1': [10, 15, 10],\n",
    "    '2010_2': [10, 10, 5],\n",
    "    '2011_1': [15, 15, 10],\n",
    "    '2011_2': [10, 5, 5],\n",
    "    '2012_1': [15, 15, 15],\n",
    "    '2012_2': [5, 5],\n",
    "    '2013_1': [10, 15, 15, 15],\n",
    "    '2013_2': [10, 5],\n",
    "    '2014_1': [15, 15, 15, 15],\n",
    "    '2014_2': [10, 10],\n",
    "    '2015_1': [10, 15, 10, 10],\n",
    "    '2015_2': [5, 5],\n",
    "    '2016_1': [10, 10, 10, 10],\n",
    "    '2016_2': [5],\n",
    "    '2017_1': [5, 5, 10, 5],\n",
    "    '2017_2': [10],\n",
    "    '2018_1': [10, 10, 5],\n",
    "    '2018_2': [10, 10],\n",
    "    '2019_1': [10, 15, 10],\n",
    "    '2019_2': [10, 5, 10],\n",
    "    '2020_1': [15, 10],\n",
    "    '2020_2': [10, 10, 10, 15],\n",
    "}\n",
    "\n",
    "for i in admission:\n",
    "    print(i, admission[i], 'total =', sum(admission[i]))"
   ]
  },
  {
   "cell_type": "code",
   "execution_count": null,
   "id": "115ff8f3-1596-4225-8f92-3eb568b31da3",
   "metadata": {},
   "outputs": [],
   "source": []
  }
 ],
 "metadata": {
  "kernelspec": {
   "display_name": "Python 3 (ipykernel)",
   "language": "python",
   "name": "python3"
  },
  "language_info": {
   "codemirror_mode": {
    "name": "ipython",
    "version": 3
   },
   "file_extension": ".py",
   "mimetype": "text/x-python",
   "name": "python",
   "nbconvert_exporter": "python",
   "pygments_lexer": "ipython3",
   "version": "3.12.3"
  }
 },
 "nbformat": 4,
 "nbformat_minor": 5
}
