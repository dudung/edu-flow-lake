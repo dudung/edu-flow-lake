{
 "cells": [
  {
   "cell_type": "code",
   "execution_count": 2,
   "id": "ae6f5e4e-cbe0-4303-a6cf-ccf6cc492fc9",
   "metadata": {},
   "outputs": [],
   "source": [
    "import pandas as pd"
   ]
  },
  {
   "cell_type": "code",
   "execution_count": 3,
   "id": "bfe58908-af2e-46f9-ae2f-52e9d15ce0f8",
   "metadata": {},
   "outputs": [],
   "source": [
    "name_src = '../../data/raw/name_sources/names1.txt'\n",
    "df = pd.read_csv(name_src, header=None)\n",
    "df.columns = ['name']"
   ]
  },
  {
   "cell_type": "code",
   "execution_count": null,
   "id": "ae7a2517-4169-4352-8b51-4271dc95a9b6",
   "metadata": {},
   "outputs": [],
   "source": [
    "base_folder = '../../data/raw/applicants/'\n",
    "\n",
    "admission [\n",
    "    '2001_1': ['batch_1'],\n",
    "    '2001_2': ['batch_1'],\n",
    "    '2002_1': ['batch_1', 'batch_2'],\n",
    "    '2002_2': ['batch_1', 'batch_2'],\n",
    "    '2003_1': ['batch_1', 'batch_2'],\n",
    "    '2003_2': ['batch_1', 'batch_2'],\n",
    "    '2004_1': ['batch_1', 'batch_2', 'batch_3'],\n",
    "    '2004_2': ['batch_1', 'batch_2', 'batch_3'],\n",
    "    '2005_1': ['batch_1', 'batch_2', 'batch_3', 'batch_4'],\n",
    "    '2005_2': ['batch_1', 'batch_2', 'batch_3', 'batch_4'],\n",
    "    '2006_1': ['batch_1', 'batch_2', 'batch_3', 'batch_4'],\n",
    "    '2006_2': ['batch_1', 'batch_2', 'batch_3', 'batch_4'],\n",
    "    '2006_1': ['batch_1', 'batch_2', 'batch_3', 'batch_4'],\n",
    "    '2006_2': ['batch_1', 'batch_2', 'batch_3', 'batch_4'],\n",
    "]"
   ]
  }
 ],
 "metadata": {
  "kernelspec": {
   "display_name": "Python 3 (ipykernel)",
   "language": "python",
   "name": "python3"
  },
  "language_info": {
   "codemirror_mode": {
    "name": "ipython",
    "version": 3
   },
   "file_extension": ".py",
   "mimetype": "text/x-python",
   "name": "python",
   "nbconvert_exporter": "python",
   "pygments_lexer": "ipython3",
   "version": "3.12.3"
  }
 },
 "nbformat": 4,
 "nbformat_minor": 5
}
