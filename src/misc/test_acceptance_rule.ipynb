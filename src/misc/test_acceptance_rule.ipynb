{
 "cells": [
  {
   "cell_type": "markdown",
   "id": "16ea7dc1-5ce6-4eb5-a3e7-c5e550150968",
   "metadata": {},
   "source": [
    "- url https://stackoverflow.com/a/59413206/9475509 [20240807]\n",
    "- url https://www.w3schools.com/python/pandas/ref_df_copy.asp [20240807]\n",
    "- url https://www.statology.org/pandas-select-columns-by-name/ [20240807]\n",
    "- url https://builtin.com/data-science/python-list-files-in-directory [20240806]\n",
    "- url https://www.w3schools.com/python/pandas/pandas_csv.asp [20240805]"
   ]
  },
  {
   "cell_type": "code",
   "execution_count": 1,
   "id": "18e61be9-d4d6-49d3-b27e-9a11f60aca53",
   "metadata": {},
   "outputs": [],
   "source": [
    "import os\n",
    "import pandas as pd"
   ]
  },
  {
   "cell_type": "code",
   "execution_count": 2,
   "id": "ef688367-9545-46ea-aea5-3db68d24511d",
   "metadata": {},
   "outputs": [
    {
     "name": "stdout",
     "output_type": "stream",
     "text": [
      "            name  logic  math  lang\n",
      "0      Omar Shah     95    70   100\n",
      "1    Carson Wang     85    85    75\n",
      "2   Tyron Dunham    100    85    50\n",
      "3   Amaya Cadena     75    75    90\n",
      "4  Alvaro Abbott     50    80    85\n",
      "\n",
      "92.0\n",
      "81.0\n",
      "77.0\n",
      "81.0\n",
      "70.0\n",
      "           name logic math lang score\n",
      "0     Omar Shah    95   70  100  92.0\n",
      "1   Carson Wang    85   85   75  81.0\n",
      "2  Tyron Dunham   100   85   50  77.0\n",
      "3  Amaya Cadena    75   75   90  81.0\n"
     ]
    }
   ],
   "source": [
    "src_path = '../../data/raw/applicants_data'\n",
    "files = [f for f in os.listdir(src_path) if f[-4:] == 'xlsx']\n",
    "\n",
    "dest_path = '../../data/processed/applicants_score'\n",
    "\n",
    "for i, f in enumerate(files):\n",
    "    ifname =  src_path + '/' + f\n",
    "    idf = pd.read_excel(ifname)\n",
    "    print(idf)\n",
    "\n",
    "    print()\n",
    "    \n",
    "    name = []\n",
    "    logic = []\n",
    "    math = []\n",
    "    lang = []\n",
    "    score = []\n",
    "    \n",
    "    for j in range(len(idf)):\n",
    "        logic_j = idf['logic'][j] \n",
    "        math_j = idf['math'][j]\n",
    "        lang_j = idf['lang'][j] \n",
    "        score_j = (2 * logic_j + math_j + 2 * lang_j) / 5\n",
    "        print(score_j)\n",
    "\n",
    "        # set acceptance rule\n",
    "        if score_j >= 75:\n",
    "            name_j = idf['name'][j] \n",
    "            name.append(name_j)\n",
    "            logic.append(logic_j)\n",
    "            math.append(math_j)\n",
    "            lang.append(lang_j)\n",
    "            score.append(score_j)\n",
    "    \n",
    "    ofname = dest_path + '/' + f\n",
    "    odf = pd.DataFrame([name, logic, math, lang, score])\n",
    "    odf = odf.T\n",
    "    odf.columns = ['name', 'logic', 'math', 'lang', 'score']\n",
    "    print(odf)\n",
    "    \n",
    "    if i == 0:\n",
    "        break;"
   ]
  },
  {
   "cell_type": "code",
   "execution_count": null,
   "id": "fec03567-6c2c-40a9-af78-5824ce00484c",
   "metadata": {},
   "outputs": [],
   "source": []
  }
 ],
 "metadata": {
  "kernelspec": {
   "display_name": "Python 3 (ipykernel)",
   "language": "python",
   "name": "python3"
  },
  "language_info": {
   "codemirror_mode": {
    "name": "ipython",
    "version": 3
   },
   "file_extension": ".py",
   "mimetype": "text/x-python",
   "name": "python",
   "nbconvert_exporter": "python",
   "pygments_lexer": "ipython3",
   "version": "3.12.3"
  }
 },
 "nbformat": 4,
 "nbformat_minor": 5
}
