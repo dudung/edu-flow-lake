{
 "cells": [
  {
   "cell_type": "code",
   "execution_count": 1,
   "id": "ae6f5e4e-cbe0-4303-a6cf-ccf6cc492fc9",
   "metadata": {},
   "outputs": [],
   "source": [
    "import pandas as pd\n",
    "import random"
   ]
  },
  {
   "cell_type": "code",
   "execution_count": 2,
   "id": "bfe58908-af2e-46f9-ae2f-52e9d15ce0f8",
   "metadata": {},
   "outputs": [],
   "source": [
    "name_src = '../../data/raw/name_sources/names1.txt'\n",
    "df = pd.read_csv(name_src, header=None)\n",
    "df.columns = ['name']"
   ]
  },
  {
   "cell_type": "code",
   "execution_count": 3,
   "id": "ae7a2517-4169-4352-8b51-4271dc95a9b6",
   "metadata": {},
   "outputs": [],
   "source": [
    "base_folder = '../../data/raw/applicants_data/'\n",
    "\n",
    "admission = {\n",
    "    '2001_1': [5],\n",
    "    '2002_1': [5, 5],\n",
    "    '2003_1': [10, 5],\n",
    "    '2004_1': [10, 10],\n",
    "    '2005_1': [10, 5, 10],\n",
    "    '2006_1': [10, 10],\n",
    "    '2006_2': [5, 5],\n",
    "    '2007_1': [8, 12, 5],\n",
    "    '2007_2': [8, 7],\n",
    "    '2008_1': [10, 8, 7],\n",
    "    '2008_2': [8, 7, 5],\n",
    "    '2009_1': [10, 10, 10],\n",
    "    '2009_2': [5, 10, 10],\n",
    "    '2010_1': [10, 15, 10],\n",
    "    '2010_2': [10, 10, 5],\n",
    "    '2011_1': [15, 15, 10],\n",
    "    '2011_2': [10, 5, 5],\n",
    "    '2012_1': [15, 15, 15],\n",
    "    '2012_2': [5, 5],\n",
    "    '2013_1': [10, 15, 15, 15],\n",
    "    '2013_2': [10, 5],\n",
    "    '2014_1': [15, 15, 15, 15],\n",
    "    '2014_2': [10, 10],\n",
    "    '2015_1': [10, 15, 10, 10],\n",
    "    '2015_2': [5, 5],\n",
    "    '2016_1': [10, 10, 10, 10],\n",
    "    '2016_2': [5],\n",
    "    '2017_1': [5, 5, 10, 5],\n",
    "    '2017_2': [10],\n",
    "    '2018_1': [10, 10, 5],\n",
    "    '2018_2': [10, 10],\n",
    "    '2019_1': [10, 15, 10],\n",
    "    '2019_2': [10, 5, 10],\n",
    "    '2020_1': [15, 10],\n",
    "    '2020_2': [10, 10, 10, 15],\n",
    "}"
   ]
  },
  {
   "cell_type": "code",
   "execution_count": 4,
   "id": "115ff8f3-1596-4225-8f92-3eb568b31da3",
   "metadata": {},
   "outputs": [],
   "source": [
    "nff = list(df.iloc[:,0])\n",
    "columns = [['name', 'logic', 'math', 'lang']]"
   ]
  },
  {
   "cell_type": "code",
   "execution_count": 5,
   "id": "065cf020-2c89-41fc-97a4-16959b859b13",
   "metadata": {},
   "outputs": [],
   "source": [
    "id = 0\n",
    "for i in admission:\n",
    "    semester = i\n",
    "    for b, j in enumerate(admission[i]):\n",
    "        rows = []\n",
    "        batch = 1 + b\n",
    "        fname = f'{base_folder}{semester}_b{batch}.xlsx'\n",
    "        for k in range(j):\n",
    "            \n",
    "            logic = random.randint(0, 12) * 5 + 40\n",
    "            math = random.randint(0, 12) * 5 + 40\n",
    "            lang = random.randint(0, 12) * 5 + 40\n",
    "            \n",
    "            rows.append([nff[id], logic, math, lang])\n",
    "            id += 1\n",
    "\n",
    "        df2 = pd.DataFrame(rows)\n",
    "        df2.columns = columns\n",
    "        df2.T.reset_index().T.to_excel(fname, index=False, header=None)\n",
    "        \n",
    "        if False:\n",
    "            print(fname)\n",
    "            print(df2)\n",
    "            print()\n"
   ]
  },
  {
   "cell_type": "code",
   "execution_count": null,
   "id": "cc80bd8f-b957-43c3-bf10-998092f9c7fe",
   "metadata": {},
   "outputs": [],
   "source": []
  }
 ],
 "metadata": {
  "kernelspec": {
   "display_name": "Python 3 (ipykernel)",
   "language": "python",
   "name": "python3"
  },
  "language_info": {
   "codemirror_mode": {
    "name": "ipython",
    "version": 3
   },
   "file_extension": ".py",
   "mimetype": "text/x-python",
   "name": "python",
   "nbconvert_exporter": "python",
   "pygments_lexer": "ipython3",
   "version": "3.12.3"
  }
 },
 "nbformat": 4,
 "nbformat_minor": 5
}
