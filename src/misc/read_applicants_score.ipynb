{
 "cells": [
  {
   "cell_type": "markdown",
   "id": "16ea7dc1-5ce6-4eb5-a3e7-c5e550150968",
   "metadata": {},
   "source": [
    "- url https://stackoverflow.com/a/59413206/9475509 [20240807]\n",
    "- url https://www.w3schools.com/python/pandas/ref_df_copy.asp [20240807]\n",
    "- url https://www.statology.org/pandas-select-columns-by-name/ [20240807]\n",
    "- url https://builtin.com/data-science/python-list-files-in-directory [20240806]\n",
    "- url https://www.w3schools.com/python/pandas/pandas_csv.asp [20240805]"
   ]
  },
  {
   "cell_type": "code",
   "execution_count": 2,
   "id": "18e61be9-d4d6-49d3-b27e-9a11f60aca53",
   "metadata": {},
   "outputs": [],
   "source": [
    "import os\n",
    "import pandas as pd"
   ]
  },
  {
   "cell_type": "code",
   "execution_count": 7,
   "id": "ef688367-9545-46ea-aea5-3db68d24511d",
   "metadata": {},
   "outputs": [
    {
     "name": "stdout",
     "output_type": "stream",
     "text": [
      "2001_1_b1.xlsx\n",
      "   Omar Shah 92\n",
      "   Carson Wang 81\n",
      "   Tyron Dunham 77\n",
      "   Amaya Cadena 81\n",
      "   Alvaro Abbott 70\n",
      "\n",
      "2002_1_b1.xlsx\n",
      "   Kenyon Bales 73\n",
      "   Kirsten Harrington 51\n",
      "   Preston Gibbs 64\n",
      "   Kaylah Langston 68\n",
      "   Marc Cowan 93\n",
      "\n",
      "2002_1_b2.xlsx\n",
      "   Roxana Sells 78\n",
      "   Deandre Gabriel 86\n",
      "   Jayson Homan 54\n",
      "   Bernardo Marcus 65\n",
      "   Cameryn Bledsoe 68\n",
      "\n",
      "2003_1_b1.xlsx\n",
      "   Kristi Zeller 62\n",
      "   Tara Downey 80\n",
      "   London Hilliard 73\n",
      "   Cecilia Rizzo 71\n",
      "   Dimitri Hummel 74\n",
      "   Asher Clary 65\n",
      "   Gene Coons 69\n",
      "   Tahj Dobson 79\n",
      "   Melanie Logan 82\n",
      "   Hugh Hallman 64\n",
      "\n",
      "2003_1_b2.xlsx\n",
      "   Sean Stearns 77\n",
      "   Yoselin Talbot 65\n",
      "   Cortez Kearns 78\n",
      "   Efrain Horowitz 75\n",
      "   Annie Grey 75\n",
      "\n",
      "2004_1_b1.xlsx\n",
      "   Norman Rader 74\n",
      "   Douglas Godoy 94\n",
      "   Donovan McCorkle 59\n",
      "   Tiara Lipscomb 56\n",
      "   Brittany Mayfield 77\n",
      "   Kalista Chan 72\n",
      "   Daveon Marin 96\n",
      "   Edgardo Peter 73\n",
      "   Lara Ayala 70\n",
      "   June Beckham 59\n"
     ]
    }
   ],
   "source": [
    "src_path = '../../data/processed/applicants_score'\n",
    "files = [f for f in os.listdir(src_path) if f[-4:] == 'xlsx']\n",
    "\n",
    "for i, f in enumerate(files):\n",
    "    ifname =  src_path + '/' + f\n",
    "    idf = pd.read_excel(ifname)\n",
    "\n",
    "    print(f)\n",
    "    for j in range(len(idf)):\n",
    "        name_j = idf['name'][j] \n",
    "        score_j = idf['score'][j] \n",
    "        print('  ', name_j, score_j)\n",
    "    \n",
    "    if i > 4:\n",
    "        break;\n",
    "    print()"
   ]
  },
  {
   "cell_type": "code",
   "execution_count": null,
   "id": "fec03567-6c2c-40a9-af78-5824ce00484c",
   "metadata": {},
   "outputs": [],
   "source": []
  }
 ],
 "metadata": {
  "kernelspec": {
   "display_name": "Python 3 (ipykernel)",
   "language": "python",
   "name": "python3"
  },
  "language_info": {
   "codemirror_mode": {
    "name": "ipython",
    "version": 3
   },
   "file_extension": ".py",
   "mimetype": "text/x-python",
   "name": "python",
   "nbconvert_exporter": "python",
   "pygments_lexer": "ipython3",
   "version": "3.12.3"
  }
 },
 "nbformat": 4,
 "nbformat_minor": 5
}
