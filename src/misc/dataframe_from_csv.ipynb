{
 "cells": [
  {
   "cell_type": "markdown",
   "id": "fe8be7b8-9e0d-4e72-9703-d006088c05fe",
   "metadata": {},
   "source": [
    "url https://www.w3schools.com/python/pandas/pandas_csv.asp [20240805]"
   ]
  },
  {
   "cell_type": "code",
   "execution_count": 1,
   "id": "ae6f5e4e-cbe0-4303-a6cf-ccf6cc492fc9",
   "metadata": {},
   "outputs": [],
   "source": [
    "import pandas as pd"
   ]
  },
  {
   "cell_type": "code",
   "execution_count": 21,
   "id": "bfe58908-af2e-46f9-ae2f-52e9d15ce0f8",
   "metadata": {},
   "outputs": [
    {
     "name": "stdout",
     "output_type": "stream",
     "text": [
      "rows = 1000\n",
      "                name\n",
      "0          Omar Shah\n",
      "1        Carson Wang\n",
      "2       Tyron Dunham\n",
      "3       Amaya Cadena\n",
      "4      Alvaro Abbott\n",
      "..               ...\n",
      "995     Fidel Barron\n",
      "996  Maryjane Byrnes\n",
      "997    Lewis Hawkins\n",
      "998    Blanca Carlos\n",
      "999   Yasmine McLain\n",
      "\n",
      "[1000 rows x 1 columns]\n"
     ]
    }
   ],
   "source": [
    "name_src = '../../data/raw/name_sources/names1.txt'\n",
    "df = pd.read_csv(name_src, header=None)\n",
    "df.columns = ['name']\n",
    "print('rows =', len(df))\n",
    "print(df)"
   ]
  },
  {
   "cell_type": "code",
   "execution_count": null,
   "id": "ae7a2517-4169-4352-8b51-4271dc95a9b6",
   "metadata": {},
   "outputs": [],
   "source": []
  }
 ],
 "metadata": {
  "kernelspec": {
   "display_name": "Python 3 (ipykernel)",
   "language": "python",
   "name": "python3"
  },
  "language_info": {
   "codemirror_mode": {
    "name": "ipython",
    "version": 3
   },
   "file_extension": ".py",
   "mimetype": "text/x-python",
   "name": "python",
   "nbconvert_exporter": "python",
   "pygments_lexer": "ipython3",
   "version": "3.12.3"
  }
 },
 "nbformat": 4,
 "nbformat_minor": 5
}
