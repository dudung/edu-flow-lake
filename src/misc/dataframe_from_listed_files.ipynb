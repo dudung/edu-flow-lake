{
 "cells": [
  {
   "cell_type": "markdown",
   "id": "16ea7dc1-5ce6-4eb5-a3e7-c5e550150968",
   "metadata": {},
   "source": [
    "- url https://www.statology.org/pandas-select-columns-by-name/ [20240807]\n",
    "- url https://builtin.com/data-science/python-list-files-in-directory [20240806]\n",
    "- url https://www.w3schools.com/python/pandas/pandas_csv.asp [20240805]"
   ]
  },
  {
   "cell_type": "code",
   "execution_count": 1,
   "id": "18e61be9-d4d6-49d3-b27e-9a11f60aca53",
   "metadata": {},
   "outputs": [],
   "source": [
    "import os\n",
    "import pandas as pd"
   ]
  },
  {
   "cell_type": "code",
   "execution_count": 2,
   "id": "ef688367-9545-46ea-aea5-3db68d24511d",
   "metadata": {},
   "outputs": [
    {
     "name": "stdout",
     "output_type": "stream",
     "text": [
      "0        Omar Shah\n",
      "1      Carson Wang\n",
      "2     Tyron Dunham\n",
      "3     Amaya Cadena\n",
      "4    Alvaro Abbott\n",
      "Name: name, dtype: object\n"
     ]
    }
   ],
   "source": [
    "path = '../../data/raw/applicants_names'\n",
    "files = [f for f in os.listdir(path) if f[-4:] == 'xlsx']\n",
    "\n",
    "for i, f in enumerate(files):\n",
    "    fname =  path + '/' + f\n",
    "    #print(fname)\n",
    "    df = pd.read_excel(fname)\n",
    "    print(df.loc[:,'name'])\n",
    "    \n",
    "    if i == 0:\n",
    "        break;"
   ]
  },
  {
   "cell_type": "code",
   "execution_count": null,
   "id": "fec03567-6c2c-40a9-af78-5824ce00484c",
   "metadata": {},
   "outputs": [],
   "source": []
  }
 ],
 "metadata": {
  "kernelspec": {
   "display_name": "Python 3 (ipykernel)",
   "language": "python",
   "name": "python3"
  },
  "language_info": {
   "codemirror_mode": {
    "name": "ipython",
    "version": 3
   },
   "file_extension": ".py",
   "mimetype": "text/x-python",
   "name": "python",
   "nbconvert_exporter": "python",
   "pygments_lexer": "ipython3",
   "version": "3.12.3"
  }
 },
 "nbformat": 4,
 "nbformat_minor": 5
}
