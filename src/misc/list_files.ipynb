{
 "cells": [
  {
   "cell_type": "markdown",
   "id": "16ea7dc1-5ce6-4eb5-a3e7-c5e550150968",
   "metadata": {},
   "source": [
    "url https://builtin.com/data-science/python-list-files-in-directory [20240806]"
   ]
  },
  {
   "cell_type": "code",
   "execution_count": 50,
   "id": "18e61be9-d4d6-49d3-b27e-9a11f60aca53",
   "metadata": {},
   "outputs": [],
   "source": [
    "import os\n",
    "import pandas as pd"
   ]
  },
  {
   "cell_type": "code",
   "execution_count": 70,
   "id": "ef688367-9545-46ea-aea5-3db68d24511d",
   "metadata": {},
   "outputs": [
    {
     "name": "stdout",
     "output_type": "stream",
     "text": [
      "93\n",
      "['2001_1_b1.xlsx', '2002_1_b1.xlsx', '2002_1_b2.xlsx', '2003_1_b1.xlsx', '2003_1_b2.xlsx', '2004_1_b1.xlsx', '2004_1_b2.xlsx', '2005_1_b1.xlsx', '2005_1_b2.xlsx', '2005_1_b3.xlsx', '2006_1_b1.xlsx', '2006_1_b2.xlsx', '2006_2_b1.xlsx', '2006_2_b2.xlsx', '2007_1_b1.xlsx', '2007_1_b2.xlsx', '2007_1_b3.xlsx', '2007_2_b1.xlsx', '2007_2_b2.xlsx', '2008_1_b1.xlsx', '2008_1_b2.xlsx', '2008_1_b3.xlsx', '2008_2_b1.xlsx', '2008_2_b2.xlsx', '2008_2_b3.xlsx', '2009_1_b1.xlsx', '2009_1_b2.xlsx', '2009_1_b3.xlsx', '2009_2_b1.xlsx', '2009_2_b2.xlsx', '2009_2_b3.xlsx', '2010_1_b1.xlsx', '2010_1_b2.xlsx', '2010_1_b3.xlsx', '2010_2_b1.xlsx', '2010_2_b2.xlsx', '2010_2_b3.xlsx', '2011_1_b1.xlsx', '2011_1_b2.xlsx', '2011_1_b3.xlsx', '2011_2_b1.xlsx', '2011_2_b2.xlsx', '2011_2_b3.xlsx', '2012_1_b1.xlsx', '2012_1_b2.xlsx', '2012_1_b3.xlsx', '2012_2_b1.xlsx', '2012_2_b2.xlsx', '2013_1_b1.xlsx', '2013_1_b2.xlsx', '2013_1_b3.xlsx', '2013_1_b4.xlsx', '2013_2_b1.xlsx', '2013_2_b2.xlsx', '2014_1_b1.xlsx', '2014_1_b2.xlsx', '2014_1_b3.xlsx', '2014_1_b4.xlsx', '2014_2_b1.xlsx', '2014_2_b2.xlsx', '2015_1_b1.xlsx', '2015_1_b2.xlsx', '2015_1_b3.xlsx', '2015_1_b4.xlsx', '2015_2_b1.xlsx', '2015_2_b2.xlsx', '2016_1_b1.xlsx', '2016_1_b2.xlsx', '2016_1_b3.xlsx', '2016_1_b4.xlsx', '2016_2_b1.xlsx', '2017_1_b1.xlsx', '2017_1_b2.xlsx', '2017_1_b3.xlsx', '2017_1_b4.xlsx', '2017_2_b1.xlsx', '2018_1_b1.xlsx', '2018_1_b2.xlsx', '2018_1_b3.xlsx', '2018_2_b1.xlsx', '2018_2_b2.xlsx', '2019_1_b1.xlsx', '2019_1_b2.xlsx', '2019_1_b3.xlsx', '2019_2_b1.xlsx', '2019_2_b2.xlsx', '2019_2_b3.xlsx', '2020_1_b1.xlsx', '2020_1_b2.xlsx', '2020_2_b1.xlsx', '2020_2_b2.xlsx', '2020_2_b3.xlsx', '2020_2_b4.xlsx']\n"
     ]
    }
   ],
   "source": [
    "import os\n",
    "\n",
    "path = '../../data/raw/applicants_names'\n",
    "files = [f for f in os.listdir(path) if f[-4:] == 'xlsx']\n",
    "\n",
    "print(len(files))\n",
    "print(files)"
   ]
  },
  {
   "cell_type": "code",
   "execution_count": null,
   "id": "fec03567-6c2c-40a9-af78-5824ce00484c",
   "metadata": {},
   "outputs": [],
   "source": []
  }
 ],
 "metadata": {
  "kernelspec": {
   "display_name": "Python 3 (ipykernel)",
   "language": "python",
   "name": "python3"
  },
  "language_info": {
   "codemirror_mode": {
    "name": "ipython",
    "version": 3
   },
   "file_extension": ".py",
   "mimetype": "text/x-python",
   "name": "python",
   "nbconvert_exporter": "python",
   "pygments_lexer": "ipython3",
   "version": "3.12.3"
  }
 },
 "nbformat": 4,
 "nbformat_minor": 5
}
