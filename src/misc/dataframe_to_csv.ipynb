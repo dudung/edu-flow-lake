{
 "cells": [
  {
   "cell_type": "markdown",
   "id": "de3b5669-423c-4268-a0ee-54eb3e439282",
   "metadata": {},
   "source": [
    "url https://stackoverflow.com/a/72326392/9475509 [20240805]"
   ]
  },
  {
   "cell_type": "code",
   "execution_count": 1,
   "id": "b109dc3e-0ae7-4b78-96b4-7c3ef4ada16d",
   "metadata": {},
   "outputs": [],
   "source": [
    "import pandas as pd"
   ]
  },
  {
   "cell_type": "code",
   "execution_count": 2,
   "id": "232e8797-0b31-4570-a467-a07a51318449",
   "metadata": {},
   "outputs": [],
   "source": [
    "columns = ['sid', 'name', 'mark']\n",
    "\n",
    "sid = [10200001, 10200007, 10200011, 10200088]\n",
    "name = ['Adi Grey', 'James Brown', 'Cyane Green', 'David Magenta']\n",
    "mark = [90, 80, 85, 100]\n",
    "\n",
    "df = pd.DataFrame([sid, name, mark])\n",
    "df = df.T\n",
    "df.columns = columns"
   ]
  },
  {
   "cell_type": "code",
   "execution_count": 4,
   "id": "85761023-cda0-4912-b9a6-133a49efa977",
   "metadata": {},
   "outputs": [],
   "source": [
    "file = '../../data/temp/mark_5_students.xlsx'\n",
    "df.T.reset_index().T.to_excel(file, index=False, header=None)"
   ]
  },
  {
   "cell_type": "code",
   "execution_count": null,
   "id": "2afc7b8c-3fb1-4a6a-ae37-e316ba1e675b",
   "metadata": {},
   "outputs": [],
   "source": []
  }
 ],
 "metadata": {
  "kernelspec": {
   "display_name": "Python 3 (ipykernel)",
   "language": "python",
   "name": "python3"
  },
  "language_info": {
   "codemirror_mode": {
    "name": "ipython",
    "version": 3
   },
   "file_extension": ".py",
   "mimetype": "text/x-python",
   "name": "python",
   "nbconvert_exporter": "python",
   "pygments_lexer": "ipython3",
   "version": "3.12.3"
  }
 },
 "nbformat": 4,
 "nbformat_minor": 5
}
