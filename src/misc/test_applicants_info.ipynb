{
 "cells": [
  {
   "cell_type": "markdown",
   "id": "16ea7dc1-5ce6-4eb5-a3e7-c5e550150968",
   "metadata": {},
   "source": [
    "- url https://stackoverflow.com/a/44517451/9475509 [20240808]\n",
    "- url https://www.w3schools.com/python/python_howto_remove_duplicates.asp [20240808]\n",
    "- url https://stackoverflow.com/a/59413206/9475509 [20240807]\n",
    "- url https://www.w3schools.com/python/pandas/ref_df_copy.asp [20240807]\n",
    "- url https://www.statology.org/pandas-select-columns-by-name/ [20240807]\n",
    "- url https://builtin.com/data-science/python-list-files-in-directory [20240806]\n",
    "- url https://www.w3schools.com/python/pandas/pandas_csv.asp [20240805]"
   ]
  },
  {
   "cell_type": "code",
   "execution_count": 1,
   "id": "18e61be9-d4d6-49d3-b27e-9a11f60aca53",
   "metadata": {},
   "outputs": [],
   "source": [
    "import os\n",
    "import pandas as pd"
   ]
  },
  {
   "cell_type": "code",
   "execution_count": 2,
   "id": "ef688367-9545-46ea-aea5-3db68d24511d",
   "metadata": {},
   "outputs": [
    {
     "name": "stdout",
     "output_type": "stream",
     "text": [
      "93 -> 35\n",
      "['2001_1', '2002_1', '2003_1', '2004_1', '2005_1', '2006_1', '2006_2', '2007_1', '2007_2', '2008_1', '2008_2', '2009_1', '2009_2', '2010_1', '2010_2', '2011_1', '2011_2', '2012_1', '2012_2', '2013_1', '2013_2', '2014_1', '2014_2', '2015_1', '2015_2', '2016_1', '2016_2', '2017_1', '2017_2', '2018_1', '2018_2', '2019_1', '2019_2', '2020_1', '2020_2']\n"
     ]
    }
   ],
   "source": [
    "src_path = '../../data/processed/applicants_score'\n",
    "files = [f for f in os.listdir(src_path) if f[-4:] == 'xlsx']\n",
    "\n",
    "prefixes = [f[0:6] for f in files]\n",
    "\n",
    "# get unique prefixes\n",
    "up = list(dict.fromkeys(prefixes))\n",
    "print(len(prefixes), '->', len(up))\n",
    "print(up)"
   ]
  },
  {
   "cell_type": "code",
   "execution_count": 3,
   "id": "2e94e6bb-2b28-4890-a26a-a8183b337c55",
   "metadata": {},
   "outputs": [
    {
     "name": "stdout",
     "output_type": "stream",
     "text": [
      "35 [1, 2, 2, 2, 3, 2, 2, 3, 2, 3, 3, 3, 3, 3, 3, 3, 3, 3, 2, 4, 2, 4, 2, 4, 2, 4, 1, 4, 1, 3, 2, 3, 3, 2, 4]\n"
     ]
    }
   ],
   "source": [
    "up_count = []\n",
    "for u in up:\n",
    "    count = len([p for p in prefixes if p.startswith(u)])\n",
    "    up_count.append(count)\n",
    "\n",
    "print(len(up_count), up_count)"
   ]
  },
  {
   "cell_type": "code",
   "execution_count": 18,
   "id": "5549845b-45d1-4dd0-9cc1-836f2d3cf151",
   "metadata": {},
   "outputs": [
    {
     "name": "stdout",
     "output_type": "stream",
     "text": [
      "../../data/processed/applicants_score/2001_1_b1.xlsx\n",
      "../../data/processed/applicants_score/2002_1_b1.xlsx\n",
      "../../data/processed/applicants_score/2002_1_b2.xlsx\n",
      "../../data/processed/applicants_score/2003_1_b1.xlsx\n",
      "../../data/processed/applicants_score/2003_1_b2.xlsx\n",
      "../../data/processed/applicants_score/2004_1_b1.xlsx\n",
      "../../data/processed/applicants_score/2004_1_b2.xlsx\n",
      "../../data/processed/applicants_score/2005_1_b1.xlsx\n",
      "../../data/processed/applicants_score/2005_1_b2.xlsx\n",
      "../../data/processed/applicants_score/2005_1_b3.xlsx\n",
      "../../data/processed/applicants_score/2006_1_b1.xlsx\n",
      "../../data/processed/applicants_score/2006_1_b2.xlsx\n",
      "../../data/processed/applicants_score/2006_2_b1.xlsx\n",
      "../../data/processed/applicants_score/2006_2_b2.xlsx\n",
      "../../data/processed/applicants_score/2007_1_b1.xlsx\n",
      "../../data/processed/applicants_score/2007_1_b2.xlsx\n",
      "../../data/processed/applicants_score/2007_1_b3.xlsx\n",
      "../../data/processed/applicants_score/2007_2_b1.xlsx\n",
      "../../data/processed/applicants_score/2007_2_b2.xlsx\n",
      "../../data/processed/applicants_score/2008_1_b1.xlsx\n",
      "../../data/processed/applicants_score/2008_1_b2.xlsx\n",
      "../../data/processed/applicants_score/2008_1_b3.xlsx\n",
      "../../data/processed/applicants_score/2008_2_b1.xlsx\n",
      "../../data/processed/applicants_score/2008_2_b2.xlsx\n",
      "../../data/processed/applicants_score/2008_2_b3.xlsx\n",
      "../../data/processed/applicants_score/2009_1_b1.xlsx\n",
      "../../data/processed/applicants_score/2009_1_b2.xlsx\n",
      "../../data/processed/applicants_score/2009_1_b3.xlsx\n",
      "../../data/processed/applicants_score/2009_2_b1.xlsx\n",
      "../../data/processed/applicants_score/2009_2_b2.xlsx\n",
      "../../data/processed/applicants_score/2009_2_b3.xlsx\n",
      "../../data/processed/applicants_score/2010_1_b1.xlsx\n",
      "../../data/processed/applicants_score/2010_1_b2.xlsx\n",
      "../../data/processed/applicants_score/2010_1_b3.xlsx\n",
      "../../data/processed/applicants_score/2010_2_b1.xlsx\n",
      "../../data/processed/applicants_score/2010_2_b2.xlsx\n",
      "../../data/processed/applicants_score/2010_2_b3.xlsx\n",
      "../../data/processed/applicants_score/2011_1_b1.xlsx\n",
      "../../data/processed/applicants_score/2011_1_b2.xlsx\n",
      "../../data/processed/applicants_score/2011_1_b3.xlsx\n",
      "../../data/processed/applicants_score/2011_2_b1.xlsx\n",
      "../../data/processed/applicants_score/2011_2_b2.xlsx\n",
      "../../data/processed/applicants_score/2011_2_b3.xlsx\n",
      "../../data/processed/applicants_score/2012_1_b1.xlsx\n",
      "../../data/processed/applicants_score/2012_1_b2.xlsx\n",
      "../../data/processed/applicants_score/2012_1_b3.xlsx\n",
      "../../data/processed/applicants_score/2012_2_b1.xlsx\n",
      "../../data/processed/applicants_score/2012_2_b2.xlsx\n",
      "../../data/processed/applicants_score/2013_1_b1.xlsx\n",
      "../../data/processed/applicants_score/2013_1_b2.xlsx\n",
      "../../data/processed/applicants_score/2013_1_b3.xlsx\n",
      "../../data/processed/applicants_score/2013_1_b4.xlsx\n",
      "../../data/processed/applicants_score/2013_2_b1.xlsx\n",
      "../../data/processed/applicants_score/2013_2_b2.xlsx\n",
      "../../data/processed/applicants_score/2014_1_b1.xlsx\n",
      "../../data/processed/applicants_score/2014_1_b2.xlsx\n",
      "../../data/processed/applicants_score/2014_1_b3.xlsx\n",
      "../../data/processed/applicants_score/2014_1_b4.xlsx\n",
      "../../data/processed/applicants_score/2014_2_b1.xlsx\n",
      "../../data/processed/applicants_score/2014_2_b2.xlsx\n",
      "../../data/processed/applicants_score/2015_1_b1.xlsx\n",
      "../../data/processed/applicants_score/2015_1_b2.xlsx\n",
      "../../data/processed/applicants_score/2015_1_b3.xlsx\n",
      "../../data/processed/applicants_score/2015_1_b4.xlsx\n",
      "../../data/processed/applicants_score/2015_2_b1.xlsx\n",
      "../../data/processed/applicants_score/2015_2_b2.xlsx\n",
      "../../data/processed/applicants_score/2016_1_b1.xlsx\n",
      "../../data/processed/applicants_score/2016_1_b2.xlsx\n",
      "../../data/processed/applicants_score/2016_1_b3.xlsx\n",
      "../../data/processed/applicants_score/2016_1_b4.xlsx\n",
      "../../data/processed/applicants_score/2016_2_b1.xlsx\n",
      "../../data/processed/applicants_score/2017_1_b1.xlsx\n",
      "../../data/processed/applicants_score/2017_1_b2.xlsx\n",
      "../../data/processed/applicants_score/2017_1_b3.xlsx\n",
      "../../data/processed/applicants_score/2017_1_b4.xlsx\n",
      "../../data/processed/applicants_score/2017_2_b1.xlsx\n",
      "../../data/processed/applicants_score/2018_1_b1.xlsx\n",
      "../../data/processed/applicants_score/2018_1_b2.xlsx\n",
      "../../data/processed/applicants_score/2018_1_b3.xlsx\n",
      "../../data/processed/applicants_score/2018_2_b1.xlsx\n",
      "../../data/processed/applicants_score/2018_2_b2.xlsx\n",
      "../../data/processed/applicants_score/2019_1_b1.xlsx\n",
      "../../data/processed/applicants_score/2019_1_b2.xlsx\n",
      "../../data/processed/applicants_score/2019_1_b3.xlsx\n",
      "../../data/processed/applicants_score/2019_2_b1.xlsx\n",
      "../../data/processed/applicants_score/2019_2_b2.xlsx\n",
      "../../data/processed/applicants_score/2019_2_b3.xlsx\n",
      "../../data/processed/applicants_score/2020_1_b1.xlsx\n",
      "../../data/processed/applicants_score/2020_1_b2.xlsx\n",
      "../../data/processed/applicants_score/2020_2_b1.xlsx\n",
      "../../data/processed/applicants_score/2020_2_b2.xlsx\n",
      "../../data/processed/applicants_score/2020_2_b3.xlsx\n",
      "../../data/processed/applicants_score/2020_2_b4.xlsx\n"
     ]
    }
   ],
   "source": [
    "src_path = '../../data/processed/applicants_score'\n",
    "dest_path = '../../data/processed/applicants_semester'\n",
    "\n",
    "for i, u in enumerate(up):\n",
    "    names = []\n",
    "    scores = []\n",
    "    batches = []\n",
    "    for j in range(up_count[i]):\n",
    "        ifname = f'{src_path}/{u}_b{j+1}.xlsx'\n",
    "        idf = pd.read_excel(ifname)\n",
    "        print(ifname)\n",
    "        for k in range(len(idf)):\n",
    "            name = idf['name'][k]\n",
    "            score = idf['score'][k]\n",
    "\n",
    "            names.append(name)\n",
    "            scores.append(score)\n",
    "            batches.append(j+1)\n",
    "\n",
    "    odf = pd.DataFrame([names, scores, batches])\n",
    "    odf = odf.T\n",
    "    odf.columns = ['names', 'scores', 'batches']\n",
    "    \n",
    "    ofname = f'{dest_path}/{u}.xlsx'\n",
    "    odf.T.reset_index().T.to_excel(ofname, index=False, header=None)\n",
    "    "
   ]
  },
  {
   "cell_type": "code",
   "execution_count": null,
   "id": "2e73f371-e49e-4d40-8ffb-38cab27c2d61",
   "metadata": {},
   "outputs": [],
   "source": [
    "for i, f in enumerate(files):\n",
    "    ifname =  src_path + '/' + f\n",
    "    idf = pd.read_excel(ifname)\n",
    "\n",
    "    print(f)\n",
    "    for j in range(len(idf)):\n",
    "        name_j = idf['name'][j] \n",
    "        score_j = idf['score'][j] \n",
    "        print('  ', name_j, score_j)\n",
    "    \n",
    "    if i > 4:\n",
    "        break;\n",
    "    print()"
   ]
  },
  {
   "cell_type": "code",
   "execution_count": null,
   "id": "fec03567-6c2c-40a9-af78-5824ce00484c",
   "metadata": {},
   "outputs": [],
   "source": []
  }
 ],
 "metadata": {
  "kernelspec": {
   "display_name": "Python 3 (ipykernel)",
   "language": "python",
   "name": "python3"
  },
  "language_info": {
   "codemirror_mode": {
    "name": "ipython",
    "version": 3
   },
   "file_extension": ".py",
   "mimetype": "text/x-python",
   "name": "python",
   "nbconvert_exporter": "python",
   "pygments_lexer": "ipython3",
   "version": "3.12.3"
  }
 },
 "nbformat": 4,
 "nbformat_minor": 5
}
