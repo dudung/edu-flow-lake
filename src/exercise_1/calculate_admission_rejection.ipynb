{
 "cells": [
  {
   "cell_type": "code",
   "execution_count": 1,
   "id": "18e61be9-d4d6-49d3-b27e-9a11f60aca53",
   "metadata": {},
   "outputs": [],
   "source": [
    "import os\n",
    "import pandas as pd"
   ]
  },
  {
   "cell_type": "code",
   "execution_count": 2,
   "id": "5549845b-45d1-4dd0-9cc1-836f2d3cf151",
   "metadata": {},
   "outputs": [],
   "source": [
    "src_path_1 = '../../data/processed/applicants_semester'\n",
    "src_path_2  = '../../data/processed/accepted_names'\n",
    "dest_path  = '../../data/analyzed/admission'\n",
    "\n",
    "files = [f for f in os.listdir(src_path_1) if f[-4:] == 'xlsx']\n",
    "\n",
    "semesters = []\n",
    "batches = []\n",
    "applied = []\n",
    "accepted = []\n",
    "rejection = []\n",
    "\n",
    "for f in files:\n",
    "    ifname1 = f'{src_path_1}/{f}'\n",
    "    idf1 = pd.read_excel(ifname1)\n",
    "    \n",
    "    ifname2 = f'{src_path_2}/{f}'\n",
    "    idf2 = pd.read_excel(ifname2)\n",
    "\n",
    "    names1 = idf1['name'][:]\n",
    "    names2 = idf2['name'][:]\n",
    "\n",
    "    batch = list(idf1['batch'][:])\n",
    "    batch = list(dict.fromkeys(batch))\n",
    "    \n",
    "    semesters.append(f[:-5])\n",
    "    batches.append(len(batch))\n",
    "    applied.append(len(names1))\n",
    "    accepted.append(len(names2))\n",
    "    rr = 1 - len(names2) / len(names1)\n",
    "    rejection.append(float(f'{rr:0.2f}'))\n",
    "\n",
    "ofname = f'{dest_path}/rejection_rate.xlsx'\n",
    "odf = pd.DataFrame([semesters, batches, applied, accepted, rejection])\n",
    "odf = odf.T\n",
    "odf.columns = ['semester', 'batches', 'applied', 'accepted', 'rejection']\n",
    "odf.T.reset_index().T.to_excel(ofname, index=False, header=None)"
   ]
  },
  {
   "cell_type": "code",
   "execution_count": null,
   "id": "7307c2e0-30f5-4940-8a3c-ae1b32067852",
   "metadata": {},
   "outputs": [],
   "source": []
  }
 ],
 "metadata": {
  "kernelspec": {
   "display_name": "Python 3 (ipykernel)",
   "language": "python",
   "name": "python3"
  },
  "language_info": {
   "codemirror_mode": {
    "name": "ipython",
    "version": 3
   },
   "file_extension": ".py",
   "mimetype": "text/x-python",
   "name": "python",
   "nbconvert_exporter": "python",
   "pygments_lexer": "ipython3",
   "version": "3.12.3"
  }
 },
 "nbformat": 4,
 "nbformat_minor": 5
}
