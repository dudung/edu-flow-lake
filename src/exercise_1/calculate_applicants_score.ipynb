{
 "cells": [
  {
   "cell_type": "code",
   "execution_count": 1,
   "id": "18e61be9-d4d6-49d3-b27e-9a11f60aca53",
   "metadata": {},
   "outputs": [],
   "source": [
    "import os\n",
    "import pandas as pd"
   ]
  },
  {
   "cell_type": "code",
   "execution_count": 2,
   "id": "ef688367-9545-46ea-aea5-3db68d24511d",
   "metadata": {},
   "outputs": [],
   "source": [
    "src_path = '../../data/raw/applicants_data'\n",
    "files = [f for f in os.listdir(src_path) if f[-4:] == 'xlsx']\n",
    "\n",
    "dest_path = '../../data/processed/applicants_score'\n",
    "\n",
    "for i, f in enumerate(files):\n",
    "    ifname =  src_path + '/' + f\n",
    "    idf = pd.read_excel(ifname)\n",
    "        \n",
    "    name = []\n",
    "    logic = []\n",
    "    math = []\n",
    "    lang = []\n",
    "    score = []\n",
    "    \n",
    "    for j in range(len(idf)):\n",
    "        logic_j = idf['logic'][j] \n",
    "        math_j = idf['math'][j]\n",
    "        lang_j = idf['lang'][j] \n",
    "        score_j = (2 * logic_j + math_j + 2 * lang_j) / 5\n",
    "        name_j = idf['name'][j]\n",
    "        \n",
    "        name.append(name_j)\n",
    "        logic.append(logic_j)\n",
    "        math.append(math_j)\n",
    "        lang.append(lang_j)\n",
    "        score.append(score_j)\n",
    "    \n",
    "    ofname = dest_path + '/' + f\n",
    "    odf = pd.DataFrame([name, logic, math, lang, score])\n",
    "    odf = odf.T\n",
    "    odf.columns = ['name', 'logic', 'math', 'lang', 'score']\n",
    "    odf.T.reset_index().T.to_excel(ofname, index=False, header=None)"
   ]
  },
  {
   "cell_type": "code",
   "execution_count": null,
   "id": "fec03567-6c2c-40a9-af78-5824ce00484c",
   "metadata": {},
   "outputs": [],
   "source": []
  }
 ],
 "metadata": {
  "kernelspec": {
   "display_name": "Python 3 (ipykernel)",
   "language": "python",
   "name": "python3"
  },
  "language_info": {
   "codemirror_mode": {
    "name": "ipython",
    "version": 3
   },
   "file_extension": ".py",
   "mimetype": "text/x-python",
   "name": "python",
   "nbconvert_exporter": "python",
   "pygments_lexer": "ipython3",
   "version": "3.12.3"
  }
 },
 "nbformat": 4,
 "nbformat_minor": 5
}
