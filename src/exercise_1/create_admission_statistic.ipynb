{
 "cells": [
  {
   "cell_type": "code",
   "execution_count": 2,
   "id": "18e61be9-d4d6-49d3-b27e-9a11f60aca53",
   "metadata": {},
   "outputs": [],
   "source": [
    "import os\n",
    "import pandas as pd"
   ]
  },
  {
   "cell_type": "code",
   "execution_count": 13,
   "id": "5549845b-45d1-4dd0-9cc1-836f2d3cf151",
   "metadata": {},
   "outputs": [
    {
     "name": "stdout",
     "output_type": "stream",
     "text": [
      "2001_1 5 4\n",
      "2002_1 10 3\n",
      "2003_1 15 7\n",
      "2004_1 20 6\n",
      "2005_1 25 12\n",
      "2006_1 20 7\n",
      "2006_2 10 2\n",
      "2007_1 25 9\n",
      "2007_2 15 1\n",
      "2008_1 25 11\n",
      "2008_2 20 4\n",
      "2009_1 30 14\n",
      "2009_2 25 6\n",
      "2010_1 35 13\n",
      "2010_2 25 9\n",
      "2011_1 40 14\n",
      "2011_2 20 6\n",
      "2012_1 45 20\n",
      "2012_2 10 2\n",
      "2013_1 55 27\n",
      "2013_2 15 4\n",
      "2014_1 60 17\n",
      "2014_2 20 9\n",
      "2015_1 45 16\n",
      "2015_2 10 4\n",
      "2016_1 40 13\n",
      "2016_2 5 4\n",
      "2017_1 25 9\n",
      "2017_2 10 3\n",
      "2018_1 25 15\n",
      "2018_2 20 6\n",
      "2019_1 35 14\n",
      "2019_2 25 6\n",
      "2020_1 25 4\n",
      "2020_2 45 14\n"
     ]
    }
   ],
   "source": [
    "src_path_1 = '../../data/processed/applicants_semester'\n",
    "src_path_2  = '../../data/processed/accepted_names'\n",
    "dest_path  = '../../data/analyzed/admission'\n",
    "\n",
    "files = [f for f in os.listdir(src_path_1) if f[-4:] == 'xlsx']\n",
    "\n",
    "for f in files:\n",
    "    ifname1 = f'{src_path_1}/{f}'\n",
    "    idf1 = pd.read_excel(ifname1)\n",
    "    \n",
    "    ifname2 = f'{src_path_2}/{f}'\n",
    "    idf2 = pd.read_excel(ifname2)\n",
    "\n",
    "    names1 = idf1['name'][:]\n",
    "    names2 = idf2['name'][:]\n",
    "\n",
    "    print(f[:-5], len(names1), len(names2))"
   ]
  },
  {
   "cell_type": "code",
   "execution_count": null,
   "id": "4c68af74-3a3a-40df-9308-22b037acb864",
   "metadata": {},
   "outputs": [],
   "source": [
    "    odf = pd.DataFrame([names])\n",
    "    odf = odf.T\n",
    "    odf.columns = ['name']\n",
    "    \n",
    "    ofname = f'{dest_path}/{f}'\n",
    "    odf.T.reset_index().T.to_excel(ofname, index=False, header=None)"
   ]
  }
 ],
 "metadata": {
  "kernelspec": {
   "display_name": "Python 3 (ipykernel)",
   "language": "python",
   "name": "python3"
  },
  "language_info": {
   "codemirror_mode": {
    "name": "ipython",
    "version": 3
   },
   "file_extension": ".py",
   "mimetype": "text/x-python",
   "name": "python",
   "nbconvert_exporter": "python",
   "pygments_lexer": "ipython3",
   "version": "3.12.3"
  }
 },
 "nbformat": 4,
 "nbformat_minor": 5
}
