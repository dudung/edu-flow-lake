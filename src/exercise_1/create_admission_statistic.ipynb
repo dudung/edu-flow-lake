{
 "cells": [
  {
   "cell_type": "code",
   "execution_count": 1,
   "id": "18e61be9-d4d6-49d3-b27e-9a11f60aca53",
   "metadata": {},
   "outputs": [],
   "source": [
    "import os\n",
    "import pandas as pd"
   ]
  },
  {
   "cell_type": "code",
   "execution_count": 2,
   "id": "5549845b-45d1-4dd0-9cc1-836f2d3cf151",
   "metadata": {},
   "outputs": [
    {
     "ename": "TypeError",
     "evalue": "list.append() takes exactly one argument (2 given)",
     "output_type": "error",
     "traceback": [
      "\u001b[1;31m----------------------------------------------------------------------\u001b[0m",
      "\u001b[1;31mTypeError\u001b[0m                            Traceback (most recent call last)",
      "Cell \u001b[1;32mIn[2], line 31\u001b[0m\n\u001b[0;32m     29\u001b[0m     accepted\u001b[38;5;241m.\u001b[39mappend(\u001b[38;5;28mlen\u001b[39m(names2))\n\u001b[0;32m     30\u001b[0m     rr \u001b[38;5;241m=\u001b[39m \u001b[38;5;241m1\u001b[39m \u001b[38;5;241m-\u001b[39m \u001b[38;5;28mlen\u001b[39m(names2) \u001b[38;5;241m/\u001b[39m \u001b[38;5;28mlen\u001b[39m(names1)\n\u001b[1;32m---> 31\u001b[0m     \u001b[43mrejection\u001b[49m\u001b[38;5;241;43m.\u001b[39;49m\u001b[43mappend\u001b[49m\u001b[43m(\u001b[49m\u001b[38;5;28;43mfloat\u001b[39;49m\u001b[43m(\u001b[49m\u001b[38;5;124;43mf\u001b[39;49m\u001b[38;5;124;43m'\u001b[39;49m\u001b[38;5;132;43;01m{\u001b[39;49;00m\u001b[43mrr\u001b[49m\u001b[38;5;132;43;01m:\u001b[39;49;00m\u001b[38;5;124;43m0.2f\u001b[39;49m\u001b[38;5;132;43;01m}\u001b[39;49;00m\u001b[38;5;124;43m'\u001b[39;49m\u001b[43m)\u001b[49m\u001b[43m,\u001b[49m\u001b[43m \u001b[49m\u001b[38;5;241;43m2\u001b[39;49m\u001b[43m)\u001b[49m\n\u001b[0;32m     33\u001b[0m ofname \u001b[38;5;241m=\u001b[39m \u001b[38;5;124mf\u001b[39m\u001b[38;5;124m'\u001b[39m\u001b[38;5;132;01m{\u001b[39;00mdest_path\u001b[38;5;132;01m}\u001b[39;00m\u001b[38;5;124m/simple_stat.xlsx\u001b[39m\u001b[38;5;124m'\u001b[39m\n\u001b[0;32m     34\u001b[0m odf \u001b[38;5;241m=\u001b[39m pd\u001b[38;5;241m.\u001b[39mDataFrame([semesters, batches, applied, accepted, rejection])\n",
      "\u001b[1;31mTypeError\u001b[0m: list.append() takes exactly one argument (2 given)"
     ]
    }
   ],
   "source": [
    "src_path_1 = '../../data/processed/applicants_semester'\n",
    "src_path_2  = '../../data/processed/accepted_names'\n",
    "dest_path  = '../../data/analyzed/admission'\n",
    "\n",
    "files = [f for f in os.listdir(src_path_1) if f[-4:] == 'xlsx']\n",
    "\n",
    "semesters = []\n",
    "batches = []\n",
    "applied = []\n",
    "accepted = []\n",
    "rejection = []\n",
    "\n",
    "for f in files:\n",
    "    ifname1 = f'{src_path_1}/{f}'\n",
    "    idf1 = pd.read_excel(ifname1)\n",
    "    \n",
    "    ifname2 = f'{src_path_2}/{f}'\n",
    "    idf2 = pd.read_excel(ifname2)\n",
    "\n",
    "    names1 = idf1['name'][:]\n",
    "    names2 = idf2['name'][:]\n",
    "\n",
    "    batch = list(idf1['batch'][:])\n",
    "    batch = list(dict.fromkeys(batch))\n",
    "    \n",
    "    semesters.append(f[:-5])\n",
    "    batches.append(len(batch))\n",
    "    applied.append(len(names1))\n",
    "    accepted.append(len(names2))\n",
    "    rr = 1 - len(names2) / len(names1)\n",
    "    rejection.append(float(f'{rr:0.2f}'))\n",
    "\n",
    "ofname = f'{dest_path}/simple_stat.xlsx'\n",
    "odf = pd.DataFrame([semesters, batches, applied, accepted, rejection])\n",
    "odf = odf.T\n",
    "odf.columns = ['semester', 'batches', 'applied', 'accepted', 'rejection']\n",
    "odf.T.reset_index().T.to_excel(ofname, index=False, header=None)"
   ]
  },
  {
   "cell_type": "code",
   "execution_count": null,
   "id": "4c68af74-3a3a-40df-9308-22b037acb864",
   "metadata": {},
   "outputs": [],
   "source": [
    "    odf = pd.DataFrame([names])\n",
    "    odf = odf.T\n",
    "    odf.columns = ['name']\n",
    "    \n",
    "    ofname = f'{dest_path}/{f}'\n",
    "    odf.T.reset_index().T.to_excel(ofname, index=False, header=None)"
   ]
  }
 ],
 "metadata": {
  "kernelspec": {
   "display_name": "Python 3 (ipykernel)",
   "language": "python",
   "name": "python3"
  },
  "language_info": {
   "codemirror_mode": {
    "name": "ipython",
    "version": 3
   },
   "file_extension": ".py",
   "mimetype": "text/x-python",
   "name": "python",
   "nbconvert_exporter": "python",
   "pygments_lexer": "ipython3",
   "version": "3.12.3"
  }
 },
 "nbformat": 4,
 "nbformat_minor": 5
}
