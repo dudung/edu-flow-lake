{
 "cells": [
  {
   "cell_type": "code",
   "execution_count": 1,
   "id": "18e61be9-d4d6-49d3-b27e-9a11f60aca53",
   "metadata": {},
   "outputs": [],
   "source": [
    "import os\n",
    "import pandas as pd"
   ]
  },
  {
   "cell_type": "code",
   "execution_count": 2,
   "id": "5549845b-45d1-4dd0-9cc1-836f2d3cf151",
   "metadata": {},
   "outputs": [],
   "source": [
    "src_path = '../../data/processed/applicants_semester'\n",
    "dest_path = '../../data/processed/accepted_names'\n",
    "\n",
    "files = [f for f in os.listdir(src_path) if f[-4:] == 'xlsx']\n",
    "\n",
    "for f in files:\n",
    "    ifname = f'{src_path}/{f}'\n",
    "    idf = pd.read_excel(ifname)\n",
    "    \n",
    "    names = []\n",
    "    for i in range(len(idf)):\n",
    "        name = idf['name'][i]\n",
    "        score = idf['score'][i]\n",
    "\n",
    "        if score >= 75:\n",
    "            names.append(name)\n",
    "    \n",
    "    odf = pd.DataFrame([names])\n",
    "    odf = odf.T\n",
    "    odf.columns = ['name']\n",
    "    \n",
    "    ofname = f'{dest_path}/{f}'\n",
    "    odf.T.reset_index().T.to_excel(ofname, index=False, header=None)"
   ]
  },
  {
   "cell_type": "code",
   "execution_count": null,
   "id": "4c68af74-3a3a-40df-9308-22b037acb864",
   "metadata": {},
   "outputs": [],
   "source": []
  }
 ],
 "metadata": {
  "kernelspec": {
   "display_name": "Python 3 (ipykernel)",
   "language": "python",
   "name": "python3"
  },
  "language_info": {
   "codemirror_mode": {
    "name": "ipython",
    "version": 3
   },
   "file_extension": ".py",
   "mimetype": "text/x-python",
   "name": "python",
   "nbconvert_exporter": "python",
   "pygments_lexer": "ipython3",
   "version": "3.12.3"
  }
 },
 "nbformat": 4,
 "nbformat_minor": 5
}
