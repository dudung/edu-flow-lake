{
 "cells": [
  {
   "cell_type": "code",
   "execution_count": 1,
   "id": "18e61be9-d4d6-49d3-b27e-9a11f60aca53",
   "metadata": {},
   "outputs": [],
   "source": [
    "import os\n",
    "import pandas as pd"
   ]
  },
  {
   "cell_type": "code",
   "execution_count": 2,
   "id": "72f2b482-45a0-47f6-9b70-385c67676247",
   "metadata": {},
   "outputs": [],
   "source": [
    "src_path = '../../data/processed/applicants_score'\n",
    "files = [f for f in os.listdir(src_path) if f[-4:] == 'xlsx']\n",
    "\n",
    "prefixes = [f[0:6] for f in files]\n",
    "up = list(dict.fromkeys(prefixes))\n",
    "\n",
    "up_count = []\n",
    "for u in up:\n",
    "    count = len([p for p in prefixes if p.startswith(u)])\n",
    "    up_count.append(count)"
   ]
  },
  {
   "cell_type": "code",
   "execution_count": 3,
   "id": "5549845b-45d1-4dd0-9cc1-836f2d3cf151",
   "metadata": {},
   "outputs": [],
   "source": [
    "dest_path = '../../data/processed/applicants_semester'\n",
    "\n",
    "for i, u in enumerate(up):\n",
    "    names = []\n",
    "    scores = []\n",
    "    batches = []\n",
    "    for j in range(up_count[i]):\n",
    "        ifname = f'{src_path}/{u}_b{j+1}.xlsx'\n",
    "        idf = pd.read_excel(ifname)\n",
    "        \n",
    "        for k in range(len(idf)):\n",
    "            name = idf['name'][k]\n",
    "            score = idf['score'][k]\n",
    "\n",
    "            names.append(name)\n",
    "            scores.append(score)\n",
    "            batches.append(j+1)\n",
    "\n",
    "    odf = pd.DataFrame([names, scores, batches])\n",
    "    odf = odf.T\n",
    "    odf.columns = ['name', 'score', 'batch']\n",
    "    \n",
    "    ofname = f'{dest_path}/{u}.xlsx'\n",
    "    odf.T.reset_index().T.to_excel(ofname, index=False, header=None)\n",
    "    "
   ]
  },
  {
   "cell_type": "code",
   "execution_count": null,
   "id": "fec03567-6c2c-40a9-af78-5824ce00484c",
   "metadata": {},
   "outputs": [],
   "source": []
  }
 ],
 "metadata": {
  "kernelspec": {
   "display_name": "Python 3 (ipykernel)",
   "language": "python",
   "name": "python3"
  },
  "language_info": {
   "codemirror_mode": {
    "name": "ipython",
    "version": 3
   },
   "file_extension": ".py",
   "mimetype": "text/x-python",
   "name": "python",
   "nbconvert_exporter": "python",
   "pygments_lexer": "ipython3",
   "version": "3.12.3"
  }
 },
 "nbformat": 4,
 "nbformat_minor": 5
}
